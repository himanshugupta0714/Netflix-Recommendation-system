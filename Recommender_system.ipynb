{
 "cells": [
  {
   "cell_type": "markdown",
   "metadata": {
    "id": "MnoW6rRxUnm5"
   },
   "source": [
    "# Upload the dataset"
   ]
  },
  {
   "cell_type": "markdown",
   "metadata": {
    "id": "b444Ta2uUjOy"
   },
   "source": [
    "# Reading dataset"
   ]
  },
  {
   "cell_type": "code",
   "execution_count": 34,
   "metadata": {
    "colab": {
     "base_uri": "https://localhost:8080/",
     "height": 315
    },
    "id": "cGGcZjUrUjO1",
    "outputId": "c642b85b-5984-486d-b9c0-a8774e1c260f"
   },
   "outputs": [
    {
     "data": {
      "text/html": [
       "<div>\n",
       "<style scoped>\n",
       "    .dataframe tbody tr th:only-of-type {\n",
       "        vertical-align: middle;\n",
       "    }\n",
       "\n",
       "    .dataframe tbody tr th {\n",
       "        vertical-align: top;\n",
       "    }\n",
       "\n",
       "    .dataframe thead th {\n",
       "        text-align: right;\n",
       "    }\n",
       "</style>\n",
       "<table border=\"1\" class=\"dataframe\">\n",
       "  <thead>\n",
       "    <tr style=\"text-align: right;\">\n",
       "      <th></th>\n",
       "      <th>title</th>\n",
       "      <th>original_title</th>\n",
       "      <th>tagline</th>\n",
       "      <th>overview</th>\n",
       "      <th>genres</th>\n",
       "      <th>cast</th>\n",
       "      <th>director</th>\n",
       "      <th>keywords</th>\n",
       "      <th>original_language</th>\n",
       "      <th>popularity</th>\n",
       "      <th>...</th>\n",
       "      <th>production_countries</th>\n",
       "      <th>release_date</th>\n",
       "      <th>revenue</th>\n",
       "      <th>runtime</th>\n",
       "      <th>spoken_languages</th>\n",
       "      <th>status</th>\n",
       "      <th>budget</th>\n",
       "      <th>vote_average</th>\n",
       "      <th>vote_count</th>\n",
       "      <th>homepage</th>\n",
       "    </tr>\n",
       "  </thead>\n",
       "  <tbody>\n",
       "    <tr>\n",
       "      <th>0</th>\n",
       "      <td>Avatar</td>\n",
       "      <td>Avatar</td>\n",
       "      <td>Enter the World of Pandora.</td>\n",
       "      <td>In the 22nd century, a paraplegic Marine is di...</td>\n",
       "      <td>['Action', 'Adventure', 'Fantasy', 'Science Fi...</td>\n",
       "      <td>['Sam Worthington', 'Zoe Saldana', 'Sigourney ...</td>\n",
       "      <td>James Cameron</td>\n",
       "      <td>['culture clash', 'future', 'space war', 'spac...</td>\n",
       "      <td>en</td>\n",
       "      <td>150.437577</td>\n",
       "      <td>...</td>\n",
       "      <td>['United States of America', 'United Kingdom']</td>\n",
       "      <td>2009-12-10</td>\n",
       "      <td>2787965087</td>\n",
       "      <td>162.0</td>\n",
       "      <td>['English', 'Español']</td>\n",
       "      <td>Released</td>\n",
       "      <td>237000000</td>\n",
       "      <td>7.2</td>\n",
       "      <td>11800</td>\n",
       "      <td>http://www.avatarmovie.com/</td>\n",
       "    </tr>\n",
       "    <tr>\n",
       "      <th>1</th>\n",
       "      <td>Pirates of the Caribbean: At World's End</td>\n",
       "      <td>Pirates of the Caribbean: At World's End</td>\n",
       "      <td>At the end of the world, the adventure begins.</td>\n",
       "      <td>Captain Barbossa, long believed to be dead, ha...</td>\n",
       "      <td>['Adventure', 'Fantasy', 'Action']</td>\n",
       "      <td>['Johnny Depp', 'Orlando Bloom', 'Keira Knight...</td>\n",
       "      <td>Gore Verbinski</td>\n",
       "      <td>['ocean', 'drug abuse', 'exotic island', 'east...</td>\n",
       "      <td>en</td>\n",
       "      <td>139.082615</td>\n",
       "      <td>...</td>\n",
       "      <td>['United States of America']</td>\n",
       "      <td>2007-05-19</td>\n",
       "      <td>961000000</td>\n",
       "      <td>169.0</td>\n",
       "      <td>['English']</td>\n",
       "      <td>Released</td>\n",
       "      <td>300000000</td>\n",
       "      <td>6.9</td>\n",
       "      <td>4500</td>\n",
       "      <td>http://disney.go.com/disneypictures/pirates/</td>\n",
       "    </tr>\n",
       "  </tbody>\n",
       "</table>\n",
       "<p>2 rows × 21 columns</p>\n",
       "</div>"
      ],
      "text/plain": [
       "                                      title  \\\n",
       "0                                    Avatar   \n",
       "1  Pirates of the Caribbean: At World's End   \n",
       "\n",
       "                             original_title  \\\n",
       "0                                    Avatar   \n",
       "1  Pirates of the Caribbean: At World's End   \n",
       "\n",
       "                                          tagline  \\\n",
       "0                     Enter the World of Pandora.   \n",
       "1  At the end of the world, the adventure begins.   \n",
       "\n",
       "                                            overview  \\\n",
       "0  In the 22nd century, a paraplegic Marine is di...   \n",
       "1  Captain Barbossa, long believed to be dead, ha...   \n",
       "\n",
       "                                              genres  \\\n",
       "0  ['Action', 'Adventure', 'Fantasy', 'Science Fi...   \n",
       "1                 ['Adventure', 'Fantasy', 'Action']   \n",
       "\n",
       "                                                cast        director  \\\n",
       "0  ['Sam Worthington', 'Zoe Saldana', 'Sigourney ...   James Cameron   \n",
       "1  ['Johnny Depp', 'Orlando Bloom', 'Keira Knight...  Gore Verbinski   \n",
       "\n",
       "                                            keywords original_language  \\\n",
       "0  ['culture clash', 'future', 'space war', 'spac...                en   \n",
       "1  ['ocean', 'drug abuse', 'exotic island', 'east...                en   \n",
       "\n",
       "   popularity  ...                            production_countries  \\\n",
       "0  150.437577  ...  ['United States of America', 'United Kingdom']   \n",
       "1  139.082615  ...                    ['United States of America']   \n",
       "\n",
       "  release_date     revenue  runtime        spoken_languages    status  \\\n",
       "0   2009-12-10  2787965087    162.0  ['English', 'Español']  Released   \n",
       "1   2007-05-19   961000000    169.0             ['English']  Released   \n",
       "\n",
       "      budget  vote_average  vote_count  \\\n",
       "0  237000000           7.2       11800   \n",
       "1  300000000           6.9        4500   \n",
       "\n",
       "                                       homepage  \n",
       "0                   http://www.avatarmovie.com/  \n",
       "1  http://disney.go.com/disneypictures/pirates/  \n",
       "\n",
       "[2 rows x 21 columns]"
      ]
     },
     "execution_count": 34,
     "metadata": {},
     "output_type": "execute_result"
    }
   ],
   "source": [
    "import pandas as pd\n",
    "movies = pd.read_csv('movies.csv')\n",
    "movies.head(2)"
   ]
  },
  {
   "cell_type": "code",
   "execution_count": 35,
   "metadata": {
    "colab": {
     "base_uri": "https://localhost:8080/"
    },
    "id": "wXdI9TQiUjO3",
    "outputId": "c34d26eb-f040-4f4c-8707-84bd876adeb5"
   },
   "outputs": [
    {
     "name": "stdout",
     "output_type": "stream",
     "text": [
      "<class 'pandas.core.frame.DataFrame'>\n",
      "RangeIndex: 4809 entries, 0 to 4808\n",
      "Data columns (total 21 columns):\n",
      " #   Column                Non-Null Count  Dtype  \n",
      "---  ------                --------------  -----  \n",
      " 0   title                 4809 non-null   object \n",
      " 1   original_title        4809 non-null   object \n",
      " 2   tagline               3965 non-null   object \n",
      " 3   overview              4806 non-null   object \n",
      " 4   genres                4809 non-null   object \n",
      " 5   cast                  4809 non-null   object \n",
      " 6   director              4779 non-null   object \n",
      " 7   keywords              4809 non-null   object \n",
      " 8   original_language     4809 non-null   object \n",
      " 9   popularity            4809 non-null   float64\n",
      " 10  production_companies  4809 non-null   object \n",
      " 11  production_countries  4809 non-null   object \n",
      " 12  release_date          4808 non-null   object \n",
      " 13  revenue               4809 non-null   int64  \n",
      " 14  runtime               4807 non-null   float64\n",
      " 15  spoken_languages      4809 non-null   object \n",
      " 16  status                4809 non-null   object \n",
      " 17  budget                4809 non-null   int64  \n",
      " 18  vote_average          4809 non-null   float64\n",
      " 19  vote_count            4809 non-null   int64  \n",
      " 20  homepage              1713 non-null   object \n",
      "dtypes: float64(3), int64(3), object(15)\n",
      "memory usage: 789.1+ KB\n"
     ]
    }
   ],
   "source": [
    "movies.info()"
   ]
  },
  {
   "cell_type": "markdown",
   "metadata": {
    "id": "F66H9zq0UjO4"
   },
   "source": [
    "# Dropping not required columns"
   ]
  },
  {
   "cell_type": "code",
   "execution_count": 36,
   "metadata": {
    "id": "MIIuI6uvUjO4"
   },
   "outputs": [],
   "source": [
    "required_columns =['title','original_title', 'tagline', 'keywords', 'overview', 'genres', 'cast', 'director']\n",
    "movies = movies[required_columns]"
   ]
  },
  {
   "cell_type": "code",
   "execution_count": 37,
   "metadata": {
    "colab": {
     "base_uri": "https://localhost:8080/"
    },
    "id": "-eAdhEWUUjO5",
    "outputId": "53075985-2e84-470d-e760-691ff5466450"
   },
   "outputs": [
    {
     "data": {
      "text/plain": [
       "title               0\n",
       "original_title      0\n",
       "tagline           844\n",
       "keywords            0\n",
       "overview            3\n",
       "genres              0\n",
       "cast                0\n",
       "director           30\n",
       "dtype: int64"
      ]
     },
     "execution_count": 37,
     "metadata": {},
     "output_type": "execute_result"
    }
   ],
   "source": [
    "movies.isna().sum()"
   ]
  },
  {
   "cell_type": "code",
   "execution_count": 38,
   "metadata": {
    "colab": {
     "base_uri": "https://localhost:8080/"
    },
    "id": "5BOe1kfFUjO5",
    "outputId": "9860a748-a653-4822-ef2c-27db0346fc8e"
   },
   "outputs": [
    {
     "data": {
      "text/plain": [
       "title             0\n",
       "original_title    0\n",
       "tagline           0\n",
       "keywords          0\n",
       "overview          0\n",
       "genres            0\n",
       "cast              0\n",
       "director          0\n",
       "dtype: int64"
      ]
     },
     "execution_count": 38,
     "metadata": {},
     "output_type": "execute_result"
    }
   ],
   "source": [
    "movies.fillna(' ', inplace=True)\n",
    "movies.isna().sum()"
   ]
  },
  {
   "cell_type": "code",
   "execution_count": 39,
   "metadata": {
    "colab": {
     "base_uri": "https://localhost:8080/"
    },
    "id": "7NjbxlyPUjO6",
    "outputId": "5de3c414-2cba-4a92-c4bc-5aca4525b6bf"
   },
   "outputs": [
    {
     "data": {
      "text/plain": [
       "title                                                        Avatar\n",
       "original_title                                               Avatar\n",
       "tagline                                 Enter the World of Pandora.\n",
       "keywords          ['culture clash', 'future', 'space war', 'spac...\n",
       "overview          In the 22nd century, a paraplegic Marine is di...\n",
       "genres            ['Action', 'Adventure', 'Fantasy', 'Science Fi...\n",
       "cast              ['Sam Worthington', 'Zoe Saldana', 'Sigourney ...\n",
       "director                                              James Cameron\n",
       "Name: 0, dtype: object"
      ]
     },
     "execution_count": 39,
     "metadata": {},
     "output_type": "execute_result"
    }
   ],
   "source": [
    "movies.iloc[0]"
   ]
  },
  {
   "cell_type": "markdown",
   "metadata": {
    "id": "sftfhNaPUjO7"
   },
   "source": [
    "# Create movie CONTENT"
   ]
  },
  {
   "cell_type": "code",
   "execution_count": 40,
   "metadata": {
    "id": "LmxApZXYUjO7"
   },
   "outputs": [],
   "source": [
    "movies['genres'] = movies['genres'].apply(lambda x:[i.replace(\" \",\"\") for i in x])\n",
    "movies['keywords'] = movies['keywords'].apply(lambda x:[i.replace(\" \",\"\") for i in x])\n",
    "movies['cast'] = movies['cast'].apply(lambda x:[i.replace(\" \",\"\") for i in x])\n",
    "movies['director'] = movies['director'].apply(lambda x: x.replace(\" \",\"\") )"
   ]
  },
  {
   "cell_type": "markdown",
   "metadata": {
    "id": "jxQ3ZNFxUjO8"
   },
   "source": [
    "## Converting List to Strings"
   ]
  },
  {
   "cell_type": "code",
   "execution_count": 41,
   "metadata": {
    "id": "8SPgRVJRUjO9"
   },
   "outputs": [],
   "source": [
    "movies['genres'] = movies['genres'].apply(lambda x: ','.join(map(str, x)))\n",
    "movies['keywords'] = movies['keywords'].apply(lambda x: ','.join(map(str, x)))\n",
    "movies['cast'] = movies['cast'].apply(lambda x: ','.join(map(str, x)))"
   ]
  },
  {
   "cell_type": "code",
   "execution_count": 42,
   "metadata": {
    "colab": {
     "base_uri": "https://localhost:8080/"
    },
    "id": "F6gW_a8dUjO9",
    "outputId": "bfe41ce5-383a-4625-929d-a15ba0dfc681"
   },
   "outputs": [
    {
     "data": {
      "text/plain": [
       "0       Avatar In the 22nd century, a paraplegic Marin...\n",
       "1       Pirates of the Caribbean: At World's End Capta...\n",
       "2       Spectre A cryptic message from Bond’s past sen...\n",
       "3       The Dark Knight Rises Following the death of D...\n",
       "4       John Carter John Carter is a war-weary, former...\n",
       "                              ...                        \n",
       "4804    El Mariachi El Mariachi just wants to play his...\n",
       "4805    Newlyweds A newlywed couple's honeymoon is upe...\n",
       "4806    Signed, Sealed, Delivered \"Signed, Sealed, Del...\n",
       "4807    Shanghai Calling When ambitious New York attor...\n",
       "4808    My Date with Drew Ever since the second grade ...\n",
       "Name: content, Length: 4809, dtype: object"
      ]
     },
     "execution_count": 42,
     "metadata": {},
     "output_type": "execute_result"
    }
   ],
   "source": [
    "movies['content'] = movies['title'] + ' ' + movies['overview'] + ' ' + movies['keywords'] + ' ' + movies['cast'] + ' ' + movies ['director']\n",
    "movies['content']"
   ]
  },
  {
   "cell_type": "markdown",
   "metadata": {
    "id": "0Ee1GdHSUjO-"
   },
   "source": [
    "# Natural Language Processing"
   ]
  },
  {
   "cell_type": "code",
   "execution_count": 43,
   "metadata": {
    "id": "4CdJFcpIUjO-"
   },
   "outputs": [],
   "source": [
    "from sklearn.feature_extraction.text import TfidfVectorizer\n",
    "vectorizer = TfidfVectorizer(max_features=1000)\n",
    "movie_vectors = vectorizer.fit_transform(movies['content'].values) "
   ]
  },
  {
   "cell_type": "markdown",
   "metadata": {
    "id": "TWAz1jt3UjO_"
   },
   "source": [
    "# Cosine Similarity"
   ]
  },
  {
   "cell_type": "code",
   "execution_count": 44,
   "metadata": {
    "id": "L5VEdxrTUjO_"
   },
   "outputs": [],
   "source": [
    "from sklearn.metrics.pairwise import cosine_similarity\n",
    "similarity = cosine_similarity(movie_vectors)"
   ]
  },
  {
   "cell_type": "code",
   "execution_count": 45,
   "metadata": {
    "colab": {
     "base_uri": "https://localhost:8080/",
     "height": 437
    },
    "id": "WameKk6wUjO_",
    "outputId": "a7bacdad-2532-413d-d01c-aed71bfc2034"
   },
   "outputs": [
    {
     "data": {
      "text/html": [
       "<div>\n",
       "<style scoped>\n",
       "    .dataframe tbody tr th:only-of-type {\n",
       "        vertical-align: middle;\n",
       "    }\n",
       "\n",
       "    .dataframe tbody tr th {\n",
       "        vertical-align: top;\n",
       "    }\n",
       "\n",
       "    .dataframe thead th {\n",
       "        text-align: right;\n",
       "    }\n",
       "</style>\n",
       "<table border=\"1\" class=\"dataframe\">\n",
       "  <thead>\n",
       "    <tr style=\"text-align: right;\">\n",
       "      <th></th>\n",
       "      <th>0</th>\n",
       "      <th>1</th>\n",
       "      <th>2</th>\n",
       "      <th>3</th>\n",
       "      <th>4</th>\n",
       "      <th>5</th>\n",
       "      <th>6</th>\n",
       "      <th>7</th>\n",
       "      <th>8</th>\n",
       "      <th>9</th>\n",
       "      <th>...</th>\n",
       "      <th>4799</th>\n",
       "      <th>4800</th>\n",
       "      <th>4801</th>\n",
       "      <th>4802</th>\n",
       "      <th>4803</th>\n",
       "      <th>4804</th>\n",
       "      <th>4805</th>\n",
       "      <th>4806</th>\n",
       "      <th>4807</th>\n",
       "      <th>4808</th>\n",
       "    </tr>\n",
       "  </thead>\n",
       "  <tbody>\n",
       "    <tr>\n",
       "      <th>0</th>\n",
       "      <td>1.000000</td>\n",
       "      <td>0.120720</td>\n",
       "      <td>0.054727</td>\n",
       "      <td>0.181850</td>\n",
       "      <td>0.157633</td>\n",
       "      <td>0.169431</td>\n",
       "      <td>0.085322</td>\n",
       "      <td>0.119674</td>\n",
       "      <td>0.038074</td>\n",
       "      <td>0.041976</td>\n",
       "      <td>...</td>\n",
       "      <td>0.058914</td>\n",
       "      <td>0.054707</td>\n",
       "      <td>0.115616</td>\n",
       "      <td>0.085792</td>\n",
       "      <td>0.100569</td>\n",
       "      <td>0.086665</td>\n",
       "      <td>0.050144</td>\n",
       "      <td>0.106024</td>\n",
       "      <td>0.062859</td>\n",
       "      <td>0.047848</td>\n",
       "    </tr>\n",
       "    <tr>\n",
       "      <th>1</th>\n",
       "      <td>0.120720</td>\n",
       "      <td>1.000000</td>\n",
       "      <td>0.099872</td>\n",
       "      <td>0.124117</td>\n",
       "      <td>0.216898</td>\n",
       "      <td>0.046506</td>\n",
       "      <td>0.091782</td>\n",
       "      <td>0.235887</td>\n",
       "      <td>0.078293</td>\n",
       "      <td>0.137685</td>\n",
       "      <td>...</td>\n",
       "      <td>0.053258</td>\n",
       "      <td>0.116830</td>\n",
       "      <td>0.112313</td>\n",
       "      <td>0.166890</td>\n",
       "      <td>0.213747</td>\n",
       "      <td>0.102234</td>\n",
       "      <td>0.085246</td>\n",
       "      <td>0.151463</td>\n",
       "      <td>0.137537</td>\n",
       "      <td>0.065207</td>\n",
       "    </tr>\n",
       "    <tr>\n",
       "      <th>2</th>\n",
       "      <td>0.054727</td>\n",
       "      <td>0.099872</td>\n",
       "      <td>1.000000</td>\n",
       "      <td>0.073028</td>\n",
       "      <td>0.045837</td>\n",
       "      <td>0.046143</td>\n",
       "      <td>0.034967</td>\n",
       "      <td>0.101910</td>\n",
       "      <td>0.048610</td>\n",
       "      <td>0.047152</td>\n",
       "      <td>...</td>\n",
       "      <td>0.062993</td>\n",
       "      <td>0.013283</td>\n",
       "      <td>0.033992</td>\n",
       "      <td>0.043828</td>\n",
       "      <td>0.104362</td>\n",
       "      <td>0.079478</td>\n",
       "      <td>0.026120</td>\n",
       "      <td>0.088255</td>\n",
       "      <td>0.041129</td>\n",
       "      <td>0.043192</td>\n",
       "    </tr>\n",
       "    <tr>\n",
       "      <th>3</th>\n",
       "      <td>0.181850</td>\n",
       "      <td>0.124117</td>\n",
       "      <td>0.073028</td>\n",
       "      <td>1.000000</td>\n",
       "      <td>0.126776</td>\n",
       "      <td>0.082809</td>\n",
       "      <td>0.146062</td>\n",
       "      <td>0.160151</td>\n",
       "      <td>0.103276</td>\n",
       "      <td>0.093932</td>\n",
       "      <td>...</td>\n",
       "      <td>0.026014</td>\n",
       "      <td>0.058746</td>\n",
       "      <td>0.084078</td>\n",
       "      <td>0.108530</td>\n",
       "      <td>0.109721</td>\n",
       "      <td>0.128345</td>\n",
       "      <td>0.082814</td>\n",
       "      <td>0.141403</td>\n",
       "      <td>0.088217</td>\n",
       "      <td>0.128880</td>\n",
       "    </tr>\n",
       "    <tr>\n",
       "      <th>4</th>\n",
       "      <td>0.157633</td>\n",
       "      <td>0.216898</td>\n",
       "      <td>0.045837</td>\n",
       "      <td>0.126776</td>\n",
       "      <td>1.000000</td>\n",
       "      <td>0.080019</td>\n",
       "      <td>0.157128</td>\n",
       "      <td>0.254060</td>\n",
       "      <td>0.063199</td>\n",
       "      <td>0.131756</td>\n",
       "      <td>...</td>\n",
       "      <td>0.082457</td>\n",
       "      <td>0.087538</td>\n",
       "      <td>0.105537</td>\n",
       "      <td>0.097895</td>\n",
       "      <td>0.201148</td>\n",
       "      <td>0.151762</td>\n",
       "      <td>0.058291</td>\n",
       "      <td>0.127700</td>\n",
       "      <td>0.119581</td>\n",
       "      <td>0.084958</td>\n",
       "    </tr>\n",
       "    <tr>\n",
       "      <th>...</th>\n",
       "      <td>...</td>\n",
       "      <td>...</td>\n",
       "      <td>...</td>\n",
       "      <td>...</td>\n",
       "      <td>...</td>\n",
       "      <td>...</td>\n",
       "      <td>...</td>\n",
       "      <td>...</td>\n",
       "      <td>...</td>\n",
       "      <td>...</td>\n",
       "      <td>...</td>\n",
       "      <td>...</td>\n",
       "      <td>...</td>\n",
       "      <td>...</td>\n",
       "      <td>...</td>\n",
       "      <td>...</td>\n",
       "      <td>...</td>\n",
       "      <td>...</td>\n",
       "      <td>...</td>\n",
       "      <td>...</td>\n",
       "      <td>...</td>\n",
       "    </tr>\n",
       "    <tr>\n",
       "      <th>4804</th>\n",
       "      <td>0.086665</td>\n",
       "      <td>0.102234</td>\n",
       "      <td>0.079478</td>\n",
       "      <td>0.128345</td>\n",
       "      <td>0.151762</td>\n",
       "      <td>0.060347</td>\n",
       "      <td>0.093782</td>\n",
       "      <td>0.199868</td>\n",
       "      <td>0.098748</td>\n",
       "      <td>0.071068</td>\n",
       "      <td>...</td>\n",
       "      <td>0.053671</td>\n",
       "      <td>0.084961</td>\n",
       "      <td>0.114460</td>\n",
       "      <td>0.066319</td>\n",
       "      <td>0.230197</td>\n",
       "      <td>1.000000</td>\n",
       "      <td>0.020742</td>\n",
       "      <td>0.072689</td>\n",
       "      <td>0.149257</td>\n",
       "      <td>0.105118</td>\n",
       "    </tr>\n",
       "    <tr>\n",
       "      <th>4805</th>\n",
       "      <td>0.050144</td>\n",
       "      <td>0.085246</td>\n",
       "      <td>0.026120</td>\n",
       "      <td>0.082814</td>\n",
       "      <td>0.058291</td>\n",
       "      <td>0.053500</td>\n",
       "      <td>0.060803</td>\n",
       "      <td>0.066664</td>\n",
       "      <td>0.016161</td>\n",
       "      <td>0.031257</td>\n",
       "      <td>...</td>\n",
       "      <td>0.008118</td>\n",
       "      <td>0.019514</td>\n",
       "      <td>0.051268</td>\n",
       "      <td>0.088724</td>\n",
       "      <td>0.054618</td>\n",
       "      <td>0.020742</td>\n",
       "      <td>1.000000</td>\n",
       "      <td>0.097607</td>\n",
       "      <td>0.065763</td>\n",
       "      <td>0.034715</td>\n",
       "    </tr>\n",
       "    <tr>\n",
       "      <th>4806</th>\n",
       "      <td>0.106024</td>\n",
       "      <td>0.151463</td>\n",
       "      <td>0.088255</td>\n",
       "      <td>0.141403</td>\n",
       "      <td>0.127700</td>\n",
       "      <td>0.128241</td>\n",
       "      <td>0.147168</td>\n",
       "      <td>0.124013</td>\n",
       "      <td>0.081597</td>\n",
       "      <td>0.090569</td>\n",
       "      <td>...</td>\n",
       "      <td>0.082691</td>\n",
       "      <td>0.070278</td>\n",
       "      <td>0.118665</td>\n",
       "      <td>0.130066</td>\n",
       "      <td>0.092227</td>\n",
       "      <td>0.072689</td>\n",
       "      <td>0.097607</td>\n",
       "      <td>1.000000</td>\n",
       "      <td>0.129344</td>\n",
       "      <td>0.064583</td>\n",
       "    </tr>\n",
       "    <tr>\n",
       "      <th>4807</th>\n",
       "      <td>0.062859</td>\n",
       "      <td>0.137537</td>\n",
       "      <td>0.041129</td>\n",
       "      <td>0.088217</td>\n",
       "      <td>0.119581</td>\n",
       "      <td>0.070877</td>\n",
       "      <td>0.122555</td>\n",
       "      <td>0.107464</td>\n",
       "      <td>0.097023</td>\n",
       "      <td>0.069589</td>\n",
       "      <td>...</td>\n",
       "      <td>0.026976</td>\n",
       "      <td>0.097445</td>\n",
       "      <td>0.091604</td>\n",
       "      <td>0.112067</td>\n",
       "      <td>0.144768</td>\n",
       "      <td>0.149257</td>\n",
       "      <td>0.065763</td>\n",
       "      <td>0.129344</td>\n",
       "      <td>1.000000</td>\n",
       "      <td>0.149881</td>\n",
       "    </tr>\n",
       "    <tr>\n",
       "      <th>4808</th>\n",
       "      <td>0.047848</td>\n",
       "      <td>0.065207</td>\n",
       "      <td>0.043192</td>\n",
       "      <td>0.128880</td>\n",
       "      <td>0.084958</td>\n",
       "      <td>0.054001</td>\n",
       "      <td>0.133388</td>\n",
       "      <td>0.082953</td>\n",
       "      <td>0.072619</td>\n",
       "      <td>0.089735</td>\n",
       "      <td>...</td>\n",
       "      <td>0.028420</td>\n",
       "      <td>0.034149</td>\n",
       "      <td>0.180663</td>\n",
       "      <td>0.066436</td>\n",
       "      <td>0.138141</td>\n",
       "      <td>0.105118</td>\n",
       "      <td>0.034715</td>\n",
       "      <td>0.064583</td>\n",
       "      <td>0.149881</td>\n",
       "      <td>1.000000</td>\n",
       "    </tr>\n",
       "  </tbody>\n",
       "</table>\n",
       "<p>4809 rows × 4809 columns</p>\n",
       "</div>"
      ],
      "text/plain": [
       "          0         1         2         3         4         5         6     \\\n",
       "0     1.000000  0.120720  0.054727  0.181850  0.157633  0.169431  0.085322   \n",
       "1     0.120720  1.000000  0.099872  0.124117  0.216898  0.046506  0.091782   \n",
       "2     0.054727  0.099872  1.000000  0.073028  0.045837  0.046143  0.034967   \n",
       "3     0.181850  0.124117  0.073028  1.000000  0.126776  0.082809  0.146062   \n",
       "4     0.157633  0.216898  0.045837  0.126776  1.000000  0.080019  0.157128   \n",
       "...        ...       ...       ...       ...       ...       ...       ...   \n",
       "4804  0.086665  0.102234  0.079478  0.128345  0.151762  0.060347  0.093782   \n",
       "4805  0.050144  0.085246  0.026120  0.082814  0.058291  0.053500  0.060803   \n",
       "4806  0.106024  0.151463  0.088255  0.141403  0.127700  0.128241  0.147168   \n",
       "4807  0.062859  0.137537  0.041129  0.088217  0.119581  0.070877  0.122555   \n",
       "4808  0.047848  0.065207  0.043192  0.128880  0.084958  0.054001  0.133388   \n",
       "\n",
       "          7         8         9     ...      4799      4800      4801  \\\n",
       "0     0.119674  0.038074  0.041976  ...  0.058914  0.054707  0.115616   \n",
       "1     0.235887  0.078293  0.137685  ...  0.053258  0.116830  0.112313   \n",
       "2     0.101910  0.048610  0.047152  ...  0.062993  0.013283  0.033992   \n",
       "3     0.160151  0.103276  0.093932  ...  0.026014  0.058746  0.084078   \n",
       "4     0.254060  0.063199  0.131756  ...  0.082457  0.087538  0.105537   \n",
       "...        ...       ...       ...  ...       ...       ...       ...   \n",
       "4804  0.199868  0.098748  0.071068  ...  0.053671  0.084961  0.114460   \n",
       "4805  0.066664  0.016161  0.031257  ...  0.008118  0.019514  0.051268   \n",
       "4806  0.124013  0.081597  0.090569  ...  0.082691  0.070278  0.118665   \n",
       "4807  0.107464  0.097023  0.069589  ...  0.026976  0.097445  0.091604   \n",
       "4808  0.082953  0.072619  0.089735  ...  0.028420  0.034149  0.180663   \n",
       "\n",
       "          4802      4803      4804      4805      4806      4807      4808  \n",
       "0     0.085792  0.100569  0.086665  0.050144  0.106024  0.062859  0.047848  \n",
       "1     0.166890  0.213747  0.102234  0.085246  0.151463  0.137537  0.065207  \n",
       "2     0.043828  0.104362  0.079478  0.026120  0.088255  0.041129  0.043192  \n",
       "3     0.108530  0.109721  0.128345  0.082814  0.141403  0.088217  0.128880  \n",
       "4     0.097895  0.201148  0.151762  0.058291  0.127700  0.119581  0.084958  \n",
       "...        ...       ...       ...       ...       ...       ...       ...  \n",
       "4804  0.066319  0.230197  1.000000  0.020742  0.072689  0.149257  0.105118  \n",
       "4805  0.088724  0.054618  0.020742  1.000000  0.097607  0.065763  0.034715  \n",
       "4806  0.130066  0.092227  0.072689  0.097607  1.000000  0.129344  0.064583  \n",
       "4807  0.112067  0.144768  0.149257  0.065763  0.129344  1.000000  0.149881  \n",
       "4808  0.066436  0.138141  0.105118  0.034715  0.064583  0.149881  1.000000  \n",
       "\n",
       "[4809 rows x 4809 columns]"
      ]
     },
     "execution_count": 45,
     "metadata": {},
     "output_type": "execute_result"
    }
   ],
   "source": [
    "similarity_df = pd.DataFrame(similarity)\n",
    "similarity_df"
   ]
  },
  {
   "cell_type": "markdown",
   "metadata": {
    "id": "2bZ7XojWUjPA"
   },
   "source": [
    "# Recommending Movies"
   ]
  },
  {
   "cell_type": "code",
   "execution_count": 46,
   "metadata": {
    "id": "OCjxyX3AUjPA"
   },
   "outputs": [],
   "source": [
    "def recommend(movie):\n",
    "    # find movie index from dataset\n",
    "    movies_index = movies[movies['title'] == movie].index[0]\n",
    "    \n",
    "    # finding cosine similarities of movie\n",
    "    distances = similarity[movies_index]\n",
    "    \n",
    "    # sorting cosine similarities\n",
    "    movies_list = sorted(list(enumerate(distances)),reverse=True,key=lambda x:x[1])[1:15]\n",
    "    \n",
    "    for i in movies_list:\n",
    "        print(movies.iloc[i[0]].title)"
   ]
  },
  {
   "cell_type": "code",
   "execution_count": 47,
   "metadata": {
    "colab": {
     "base_uri": "https://localhost:8080/"
    },
    "id": "-Mv7IKKlUjPB",
    "outputId": "91621b01-a2ae-48bf-c39d-36d03bf8d7e1"
   },
   "outputs": [
    {
     "data": {
      "text/plain": [
       "0                                      Avatar\n",
       "1    Pirates of the Caribbean: At World's End\n",
       "2                                     Spectre\n",
       "3                       The Dark Knight Rises\n",
       "4                                 John Carter\n",
       "5                                Spider-Man 3\n",
       "6                                     Tangled\n",
       "7                     Avengers: Age of Ultron\n",
       "8      Harry Potter and the Half-Blood Prince\n",
       "9          Batman v Superman: Dawn of Justice\n",
       "Name: title, dtype: object"
      ]
     },
     "execution_count": 47,
     "metadata": {},
     "output_type": "execute_result"
    }
   ],
   "source": [
    "movies.title.head(10)"
   ]
  },
  {
   "cell_type": "code",
   "execution_count": 48,
   "metadata": {
    "colab": {
     "base_uri": "https://localhost:8080/"
    },
    "id": "6oYqyVjCUjPB",
    "outputId": "2b41695e-667d-4d5b-b19f-7a9f5d41f290"
   },
   "outputs": [
    {
     "name": "stdout",
     "output_type": "stream",
     "text": [
      "The Amazing Spider-Man 2\n",
      "The Amazing Spider-Man\n",
      "Kick-Ass\n",
      "Forgetting Sarah Marshall\n",
      "Guardians of the Galaxy\n",
      "Austin Powers: International Man of Mystery\n",
      "Iron Man\n",
      "Obvious Child\n",
      "Radio\n",
      "Trucker\n",
      "I Love You, Man\n",
      "Shooting Fish\n",
      "Spider-Man 3\n",
      "Deadpool\n"
     ]
    }
   ],
   "source": [
    "recommend('Spider-Man')"
   ]
  },
  {
   "cell_type": "code",
   "execution_count": null,
   "metadata": {},
   "outputs": [],
   "source": []
  }
 ],
 "metadata": {
  "colab": {
   "collapsed_sections": [],
   "name": "Recommender_system.ipynb",
   "provenance": []
  },
  "interpreter": {
   "hash": "7bad5823d1f22096f4858cb865f06bad00d69ab23b481743a93b43c0226612e2"
  },
  "kernelspec": {
   "display_name": "Python 3",
   "language": "python",
   "name": "python3"
  },
  "language_info": {
   "codemirror_mode": {
    "name": "ipython",
    "version": 3
   },
   "file_extension": ".py",
   "mimetype": "text/x-python",
   "name": "python",
   "nbconvert_exporter": "python",
   "pygments_lexer": "ipython3",
   "version": "3.7.6"
  }
 },
 "nbformat": 4,
 "nbformat_minor": 4
}
